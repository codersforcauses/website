{
 "cells": [
  {
   "cell_type": "markdown",
   "metadata": {},
   "source": [
    "# v2 DB Migration Script\n",
    "\n",
    "Run this only after creating a fresh db with the schema already migrated."
   ]
  },
  {
   "cell_type": "code",
   "execution_count": 176,
   "metadata": {},
   "outputs": [],
   "source": [
    "import os\n",
    "import pandas as pd\n",
    "from sqlalchemy import create_engine, text\n",
    "from dotenv import load_dotenv\n",
    "from uuid_extensions import uuid7str"
   ]
  },
  {
   "cell_type": "code",
   "execution_count": 177,
   "metadata": {},
   "outputs": [],
   "source": [
    "load_dotenv()\n",
    "\n",
    "CSV_DIRECTORY = \"./csv\"\n",
    "DB_CONNECTION_STRING = os.environ.get(\"DB_CONNECTION_STRING\")\n",
    "\n",
    "# Load csv files\n",
    "user_df = pd.read_csv(\n",
    "    f\"{CSV_DIRECTORY}/cfc-website_user.csv\", dtype={\"student_number\": str}\n",
    ")\n",
    "payment_df = pd.read_csv(f\"{CSV_DIRECTORY}/cfc-website_payment.csv\", dtype={\"amount\": float})\n",
    "\n",
    "engine = create_engine(DB_CONNECTION_STRING)"
   ]
  },
  {
   "cell_type": "code",
   "execution_count": 178,
   "metadata": {},
   "outputs": [],
   "source": [
    "# ETL for user\n",
    "user_table = user_df.drop(columns=[\"xata.createdAt\", \"xata.updatedAt\", \"xata.version\"])\n",
    "user_table[\"clerk_id\"] = user_table[\"id\"]\n",
    "user_table[\"id\"] = user_table[\"id\"].apply(lambda _: uuid7str())"
   ]
  },
  {
   "cell_type": "code",
   "execution_count": 179,
   "metadata": {},
   "outputs": [],
   "source": [
    "# Check all payment.user_id maps to a user.clerk_id\n",
    "assert payment_df[\"user_id\"].isin(user_table[\"clerk_id\"]).all()\n",
    "\n",
    "# ETL for payment\n",
    "payment_table = payment_df.drop(\n",
    "    columns=[\"xata.createdAt\", \"xata.updatedAt\", \"xata.version\"]\n",
    ")\n",
    "\n",
    "payment_table[\"id\"] = payment_table[\"id\"].apply(lambda _: uuid7str())\n",
    "\n",
    "# Map payment.user_id to user.id\n",
    "payment_table[\"user_id\"] = payment_table[\"user_id\"].map(\n",
    "    user_table.set_index(\"clerk_id\")[\"id\"]\n",
    ")"
   ]
  },
  {
   "cell_type": "code",
   "execution_count": 175,
   "metadata": {},
   "outputs": [],
   "source": [
    "# Insert data to db\n",
    "\n",
    "with engine.connect() as conn:\n",
    "    user_table.to_sql(\"cfc-website_user\", conn, if_exists=\"append\", index=False)\n",
    "    payment_table.to_sql(\"cfc-website_payment\", conn, if_exists=\"append\", index=False)"
   ]
  }
 ],
 "metadata": {
  "kernelspec": {
   "display_name": ".venv",
   "language": "python",
   "name": "python3"
  },
  "language_info": {
   "codemirror_mode": {
    "name": "ipython",
    "version": 3
   },
   "file_extension": ".py",
   "mimetype": "text/x-python",
   "name": "python",
   "nbconvert_exporter": "python",
   "pygments_lexer": "ipython3",
   "version": "3.12.3"
  }
 },
 "nbformat": 4,
 "nbformat_minor": 2
}
